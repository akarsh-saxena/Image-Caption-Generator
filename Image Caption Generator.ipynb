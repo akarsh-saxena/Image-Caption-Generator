{
  "nbformat": 4,
  "nbformat_minor": 0,
  "metadata": {
    "colab": {
      "name": "Image Caption Generator.ipynb",
      "provenance": []
    },
    "kernelspec": {
      "name": "python3",
      "display_name": "Python 3"
    }
  },
  "cells": [
    {
      "cell_type": "code",
      "metadata": {
        "id": "uE0gPlS8F8se",
        "colab_type": "code",
        "colab": {}
      },
      "source": [
        "!apt-get install aria2 > /dev/null"
      ],
      "execution_count": null,
      "outputs": []
    },
    {
      "cell_type": "code",
      "metadata": {
        "id": "tHhuCqgPkWu2",
        "colab_type": "code",
        "colab": {}
      },
      "source": [
        "!aria2c -x 16 -s 16 https://github.com/jbrownlee/Datasets/releases/download/Flickr8k/Flickr8k_Dataset.zip > /dev/null \n",
        "!aria2c -x 16 -s 16 https://github.com/jbrownlee/Datasets/releases/download/Flickr8k/Flickr8k_text.zip > /dev/null"
      ],
      "execution_count": null,
      "outputs": []
    },
    {
      "cell_type": "code",
      "metadata": {
        "id": "J4A0K_xGke3G",
        "colab_type": "code",
        "colab": {}
      },
      "source": [
        "!unzip /content/Flickr8k_Dataset.zip > /dev/null\n",
        "!unzip /content/Flickr8k_text.zip > /dev/null\n",
        "!rm *.zip > /dev/null"
      ],
      "execution_count": null,
      "outputs": []
    },
    {
      "cell_type": "code",
      "metadata": {
        "id": "90iBg2gPk0Nj",
        "colab_type": "code",
        "colab": {}
      },
      "source": [
        "import re\n",
        "import numpy as np"
      ],
      "execution_count": null,
      "outputs": []
    },
    {
      "cell_type": "code",
      "metadata": {
        "id": "3PmPwuAYtG-K",
        "colab_type": "code",
        "colab": {}
      },
      "source": [
        "def clean_description(desc, stopwords):\n",
        "\n",
        "  cleaned = desc.lower()\n",
        "  cleaned = re.sub('[^a-z]',' ',cleaned)\n",
        "  tokens = cleaned.split(' ')\n",
        "  cleaned = ' '.join([w for w in tokens if w not in stopwords and len(w)>1])\n",
        "  \n",
        "  return cleaned"
      ],
      "execution_count": null,
      "outputs": []
    },
    {
      "cell_type": "code",
      "metadata": {
        "id": "iGQkoXDG9DkU",
        "colab_type": "code",
        "colab": {}
      },
      "source": [
        "def get_vocabulary(dictionary):\n",
        "  vocab = set()\n",
        "\n",
        "  for desc_list in dictionary.values():\n",
        "    for desc in desc_list:\n",
        "      words = desc.split(' ')\n",
        "      for word in words:\n",
        "        vocab.add(word)\n",
        "\n",
        "  return vocab"
      ],
      "execution_count": null,
      "outputs": []
    },
    {
      "cell_type": "code",
      "metadata": {
        "id": "XCalBEoylB14",
        "colab_type": "code",
        "colab": {}
      },
      "source": [
        "with open('/content/Flickr8k.token.txt', 'r') as f:\n",
        "  all_desc = f.read().split('\\n')"
      ],
      "execution_count": null,
      "outputs": []
    },
    {
      "cell_type": "code",
      "metadata": {
        "id": "wq_lrPpaxJb7",
        "colab_type": "code",
        "colab": {}
      },
      "source": [
        "stopwords = ['is', 'an', 'a', 'the', 'was']"
      ],
      "execution_count": null,
      "outputs": []
    },
    {
      "cell_type": "code",
      "metadata": {
        "id": "DROwNiW4l-5v",
        "colab_type": "code",
        "colab": {}
      },
      "source": [
        "all_dict = dict()\n",
        "\n",
        "for desc in all_desc:\n",
        "  if len(desc) < 1:\n",
        "    continue\n",
        "  file_name, file_desc = desc.split('\\t')[0].split('.')[0], desc.split('\\t')[1]\n",
        "  \n",
        "  if file_name not in all_dict.keys():\n",
        "    all_dict[file_name] = []\n",
        "  \n",
        "  cleaned_desc = clean_description(file_desc, stopwords)\n",
        "  cleaned_desc = 'startseq ' + cleaned_desc + ' endseq'\n",
        "\n",
        "  all_dict[file_name].append(cleaned_desc)"
      ],
      "execution_count": null,
      "outputs": []
    },
    {
      "cell_type": "code",
      "metadata": {
        "id": "i_0Jtzw-84QP",
        "colab_type": "code",
        "colab": {}
      },
      "source": [
        "vocab = get_vocabulary(all_dict)"
      ],
      "execution_count": null,
      "outputs": []
    },
    {
      "cell_type": "code",
      "metadata": {
        "id": "TW3lc75R-P7W",
        "colab_type": "code",
        "colab": {
          "base_uri": "https://localhost:8080/",
          "height": 50
        },
        "outputId": "60988905-0494-4274-9220-ca783a2e2879"
      },
      "source": [
        "print(len(all_dict))\n",
        "print(len(vocab))"
      ],
      "execution_count": null,
      "outputs": [
        {
          "output_type": "stream",
          "text": [
            "8092\n",
            "8423\n"
          ],
          "name": "stdout"
        }
      ]
    }
  ]
}